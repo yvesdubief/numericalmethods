{
 "cells": [
  {
   "cell_type": "raw",
   "metadata": {},
   "source": [
    "Text provided under a Creative Commons Attribution license, CC-BY. All code is made available under the FSF-approved MIT license. (c) Yves Dubief, 2019. NSF for support via NSF-CBET award #1805636."
   ]
  },
  {
   "cell_type": "code",
   "execution_count": 2,
   "metadata": {},
   "outputs": [],
   "source": [
    "from IPython.display import clear_output\n",
    "\n",
    "font = {'family' : 'serif',\n",
    "        #'color'  : 'black',\n",
    "        'weight' : 'normal',\n",
    "        'size'   : 12,\n",
    "        }"
   ]
  },
  {
   "cell_type": "markdown",
   "metadata": {},
   "source": [
    "<img src=\"Figures/Staggered-grid-2D.png\">\n",
    "\n",
    "Figure 1. Sketch of a cell (top left) with the horizontal (red) and vertical (green) velocity nodes and the cell-centered node (blue). Definition of the normal vector to \"surface\" (segment) $S_{i+\\frac{1}{2},j}$ and $S_{i,j+\\frac{1}{2}}$ (top right). Sketch of uniform grid (bottom)."
   ]
  },
  {
   "cell_type": "markdown",
   "metadata": {},
   "source": [
    "# Transport of $\\phi$\n",
    "\n",
    "\n",
    "\n",
    "Consider a small control surface (cell) of dimensions $\\Delta x\\times\\Delta y$ within which, we know the velocities on the surfaces $u_{i\\pm\\frac{1}{2},j}$ and $v_{i,j\\pm\\frac{1}{2}}$ and a quantity $\\phi_{i,j}$ at the center of the cell. This quantity may be temperature, or the concentration of chemical specie. The variation in time of $\\phi$ within the cell is equal to the amount of $\\phi$ that is flowing in and out of the cell through the boundaries of cell. The velocity vector is defined as\n",
    "\n",
    "$$\n",
    "\\vec{u}=u\\vec{e}_x+v\\vec{e}_y\n",
    "$$\n",
    "\n",
    "The fluxes of $\\phi$ across the right-hand-side and left-hand-side vertical boundaries are, respectively:\n",
    "\n",
    "$$\n",
    "\\int_{S_{i+1/2,j}}\\phi(\\vec{u}_{i+\\frac{1}{2},j}\\cdot\\vec{n}_{i+\\frac{1}{2},j})dy\\text{ and }\\int_{S_{i-1/2,j}}\\phi(\\vec{u}_{i-\\frac{1}{2},j}\\cdot\\vec{n}_{i+\\frac{1}{2},j})dy\n",
    "$$\n",
    "\n",
    "In the configuration depicted in Figure 1, the mass or heat variation is equal to the flux of $\\phi$ entering the cell minus the flux exiting the cell, or:\n",
    "$$\n",
    "-\\phi_{i+\\frac{1}{2},j}u_{i+\\frac{1}{2},j}\\Delta y + \\phi_{i-\\frac{1}{2},j}u_{i-\\frac{1}{2},j}\\Delta y \\text{, when $\\Delta y\\rightarrow 0$}\n",
    "$$\n",
    "\n",
    "Assuming that there is no vertical velocity ($v=0$), this sum is equal to the variation of $\\phi$ within the cell,\n",
    "\n",
    "$$\n",
    "\\frac{\\partial}{\\partial t}\\iint_{V_{i,j}}\\phi dxdy\\approx\\frac{\\partial \\phi_{i,j}}{\\partial t}\\Delta x\\Delta y \\text{, when $\\Delta x\\rightarrow 0$ and $\\Delta y\\rightarrow 0$}\n",
    "$$\n",
    "\n",
    "yielding\n",
    "\n",
    "$$\n",
    "\\frac{\\partial \\phi_{i,j}}{\\partial t}\\Delta x\\Delta y=-\\phi_{i+\\frac{1}{2},j}u_{i+\\frac{1}{2},j}\\Delta y + \\phi_{i-\\frac{1}{2},j}u_{i-\\frac{1}{2},j}\\Delta y\\;,\n",
    "$$\n",
    "\n",
    "reducing to\n",
    "\n",
    "$$\n",
    "\\frac{\\partial \\phi_{i,j}}{\\partial t}=-\\frac{\\phi_{i+\\frac{1}{2},j}u_{i+\\frac{1}{2},j} - \\phi_{i-\\frac{1}{2},j}u_{i-\\frac{1}{2},j}}{\\Delta x}\\;.\n",
    "$$\n",
    "\n",
    "In the limit of $\\Delta x\\rightarrow 0$, we obtain the conservative form of the pure advection equation:\n",
    "<p class='alert alert-danger'>\n",
    "$$\n",
    "\\frac{\\partial \\phi}{\\partial t}+\\frac{\\partial u\\phi}{\\partial x}=0\n",
    "$$\n",
    "</p>\n",
    "\n",
    "Following the same algebra, if the molecular diffusion of $\\phi$ is governed by an equation like Fourier's law\n",
    "$$\n",
    "-D\\frac{\\partial \\phi}{\\partial x}\n",
    "$$\n",
    "\n",
    "the transport equation for advection and diffusion becomes\n",
    "\n",
    "<p class='alert alert-danger'>\n",
    "$$\n",
    "\\frac{\\partial \\phi}{\\partial t}+\\frac{\\partial u\\phi}{\\partial x}=D\\frac{\\partial^2\\phi}{\\partial x^2}\n",
    "$$\n",
    "</p>"
   ]
  },
  {
   "cell_type": "markdown",
   "metadata": {},
   "source": [
    "# Heat equation\n",
    "\n",
    "Assuming zero velocity $u=0$, derive a discretized equation in finite difference to solve the heat equation on a domain $0\\leq x\\leq L=1$ with $\\phi(x=0,t)=0$, $\\phi(x=L,t)=1$ and $\\phi(x,t=0)=0$\n"
   ]
  },
  {
   "cell_type": "code",
   "execution_count": null,
   "metadata": {
    "collapsed": true
   },
   "outputs": [],
   "source": []
  }
 ],
 "metadata": {
  "kernelspec": {
   "display_name": "Python 3",
   "language": "python",
   "name": "python3"
  },
  "language_info": {
   "codemirror_mode": {
    "name": "ipython",
    "version": 3
   },
   "file_extension": ".py",
   "mimetype": "text/x-python",
   "name": "python",
   "nbconvert_exporter": "python",
   "pygments_lexer": "ipython3",
   "version": "3.8.5"
  }
 },
 "nbformat": 4,
 "nbformat_minor": 2
}
